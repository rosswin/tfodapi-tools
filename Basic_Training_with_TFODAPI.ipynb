{
  "nbformat": 4,
  "nbformat_minor": 0,
  "metadata": {
    "colab": {
      "name": "Basic-Training-with-TFODAPI.ipynb",
      "provenance": [],
      "collapsed_sections": [],
      "authorship_tag": "ABX9TyPlzNFm7Bimd+VcuMsiNlqf",
      "include_colab_link": true
    },
    "kernelspec": {
      "name": "python3",
      "display_name": "Python 3"
    },
    "language_info": {
      "name": "python"
    }
  },
  "cells": [
    {
      "cell_type": "markdown",
      "metadata": {
        "id": "view-in-github",
        "colab_type": "text"
      },
      "source": [
        "<a href=\"https://colab.research.google.com/github/rosswin/tfodapi-tools/blob/main/Basic_Training_with_TFODAPI.ipynb\" target=\"_parent\"><img src=\"https://colab.research.google.com/assets/colab-badge.svg\" alt=\"Open In Colab\"/></a>"
      ]
    },
    {
      "cell_type": "code",
      "metadata": {
        "id": "l-2jg582uQ_D"
      },
      "source": [
        "# Last updated: 2021-10-01"
      ],
      "execution_count": 1,
      "outputs": []
    },
    {
      "cell_type": "code",
      "metadata": {
        "colab": {
          "base_uri": "https://localhost:8080/"
        },
        "id": "HsC7TnRAvGii",
        "outputId": "5a85c612-0f00-4c78-c848-c5181a01741f"
      },
      "source": [
        "# check the allocated hardware\n",
        "! nvidia-smi"
      ],
      "execution_count": 2,
      "outputs": [
        {
          "output_type": "stream",
          "name": "stdout",
          "text": [
            "NVIDIA-SMI has failed because it couldn't communicate with the NVIDIA driver. Make sure that the latest NVIDIA driver is installed and running.\n",
            "\n"
          ]
        }
      ]
    },
    {
      "cell_type": "markdown",
      "metadata": {
        "id": "jvrdLKbR1Qgs"
      },
      "source": [
        "# Imports"
      ]
    },
    {
      "cell_type": "code",
      "metadata": {
        "id": "sI9CQ8tY1Syw"
      },
      "source": [
        "import os"
      ],
      "execution_count": 24,
      "outputs": []
    },
    {
      "cell_type": "markdown",
      "metadata": {
        "id": "5BJExQ7hwF0V"
      },
      "source": [
        "# Variables"
      ]
    },
    {
      "cell_type": "code",
      "metadata": {
        "colab": {
          "base_uri": "https://localhost:8080/",
          "height": 129
        },
        "id": "pMSOpfrYwIO8",
        "outputId": "9f09e932-74b4-4f19-f338-93d5d44c471f"
      },
      "source": [
        "# Set the absolute path to mount storage (either GCS bucket or G-Drive) on the Colab machine \n",
        "LOCAL_MOUNT_POINT = \"/content/gcs\"\n",
        "\n",
        "# Set the name of the GCS bucket (optional; only needed if using GCS)\n",
        "GCS_BUCKET = \"my-gcs-bucket\"\n",
        "\n",
        "# If downloading a model from the TF2 Detection Model Zoo (TF Zoo: https://github.com/tensorflow/models/blob/master/research/object_detection/g3doc/tf2_detection_zoo.md), \n",
        "# specify the URL and location to save on the Colab machine:\n",
        "ZOO_URL = \"http://download.tensorflow.org/models/object_detection/tf2/20200711/efficientdet_d0_coco17_tpu-32.tar.gz\"\n",
        "\n",
        "LOCAL_MODEL_FOLDER = \"/content/tf-models\"\n",
        "\n",
        "# TFODAPI project folder where training checkpoints will also be written and the specify the location of the TFODAPI pipeline.config\n",
        "# NOTE: you may want to keep this on GCS or Drive so that training checkpoint are preserved in the event of Colab timeout/crash/etc.\n",
        "PROJECT_FOLDER = \"/content/gcs/my-project-folder/\"\n",
        "\n",
        "PIPELINE_CONFIG = \"/content/gcs/my-project-folder/pipeline.config\""
      ],
      "execution_count": 31,
      "outputs": [
        {
          "output_type": "error",
          "ename": "SyntaxError",
          "evalue": "ignored",
          "traceback": [
            "\u001b[0;36m  File \u001b[0;32m\"<ipython-input-31-983c978900d0>\"\u001b[0;36m, line \u001b[0;32m17\u001b[0m\n\u001b[0;31m    PIPELINE_CONFIG = /content/gcs/efficient-zoro-06/efficient-zoro-06.config\u001b[0m\n\u001b[0m                      ^\u001b[0m\n\u001b[0;31mSyntaxError\u001b[0m\u001b[0;31m:\u001b[0m invalid syntax\n"
          ]
        }
      ]
    },
    {
      "cell_type": "markdown",
      "metadata": {
        "id": "ity1Z82dvRIh"
      },
      "source": [
        "# Installation"
      ]
    },
    {
      "cell_type": "code",
      "metadata": {
        "id": "BKMZm1svvNRP"
      },
      "source": [
        "import os\n",
        "import pathlib\n",
        "\n",
        "# Clone the tensorflow models repository if it doesn't already exist\n",
        "if \"models\" in pathlib.Path.cwd().parts:\n",
        "  while \"models\" in pathlib.Path.cwd().parts:\n",
        "    os.chdir('..')\n",
        "elif not pathlib.Path('models').exists():\n",
        "  !git clone --depth 1 https://github.com/tensorflow/models"
      ],
      "execution_count": null,
      "outputs": []
    },
    {
      "cell_type": "code",
      "metadata": {
        "id": "zlYfFXt2vVF5"
      },
      "source": [
        "# Install the Object Detection API\n",
        "%%bash\n",
        "cd models/research/\n",
        "protoc object_detection/protos/*.proto --python_out=.\n",
        "cp object_detection/packages/tf2/setup.py .\n",
        "python -m pip install ."
      ],
      "execution_count": null,
      "outputs": []
    },
    {
      "cell_type": "markdown",
      "metadata": {
        "id": "gGGS2QTyvc6F"
      },
      "source": [
        "# Data Loading from GCS"
      ]
    },
    {
      "cell_type": "code",
      "metadata": {
        "id": "kU2neSkOvcTL"
      },
      "source": [
        "%%bash\n",
        "echo \"deb http://packages.cloud.google.com/apt gcsfuse-bionic main\" > /etc/apt/sources.list.d/gcsfuse.list\n",
        "curl https://packages.cloud.google.com/apt/doc/apt-key.gpg | apt-key add -\n",
        "apt -qq update\n",
        "apt -qq install gcsfuse"
      ],
      "execution_count": null,
      "outputs": []
    },
    {
      "cell_type": "code",
      "metadata": {
        "id": "MrByXyHJvfhW"
      },
      "source": [
        "from google.colab import auth\n",
        "auth.authenticate_user()"
      ],
      "execution_count": null,
      "outputs": []
    },
    {
      "cell_type": "code",
      "metadata": {
        "colab": {
          "base_uri": "https://localhost:8080/"
        },
        "id": "XZJ7EDvQvobt",
        "outputId": "a4d56eec-61f6-4836-b1eb-ac3563498a8b"
      },
      "source": [
        "# create mount point\n",
        "%%bash -s \"$LOCAL_MOUNT_POINT\" \"$GCS_BUCKET\"\n",
        "mkdir $1\n",
        "gcsfuse $2 $1"
      ],
      "execution_count": 32,
      "outputs": [
        {
          "output_type": "stream",
          "name": "stderr",
          "text": [
            "bash: line 2: gcsfuse: command not found\n"
          ]
        }
      ]
    },
    {
      "cell_type": "code",
      "metadata": {
        "id": "wtqsW231wj1Q"
      },
      "source": [
        "# OPTIONAL: This could be a good time to copy data to the Colab machine for faster processing\n",
        "%%bash\n",
        "# mkdir /content/my-local-data\n",
        "# cp -r /content/gcs/my-cloud-data/* /content/my-local-data"
      ],
      "execution_count": null,
      "outputs": []
    },
    {
      "cell_type": "markdown",
      "metadata": {
        "id": "Tm0M7e5rzS4k"
      },
      "source": [
        "# Data Loading from Drive"
      ]
    },
    {
      "cell_type": "code",
      "metadata": {
        "id": "9OuMYiEw3_Z1"
      },
      "source": [
        "from google.colab import drive\n",
        "drive.mount(LOCAL_MOUNT_POINT)"
      ],
      "execution_count": null,
      "outputs": []
    },
    {
      "cell_type": "code",
      "metadata": {
        "id": "b8rJra0m3_PO"
      },
      "source": [
        "# OPTIONAL: This could be a good time to copy data to the Colab machine for faster processing\n",
        "%%bash\n",
        "# mkdir /content/my-local-data\n",
        "# cp -rf /content/gcs/MyDrive/data-to-copy/* /content/project/"
      ],
      "execution_count": null,
      "outputs": []
    },
    {
      "cell_type": "markdown",
      "metadata": {
        "id": "wSjTHc36zY2f"
      },
      "source": [
        "# Download from the Tensorflow Detection Model Zoo"
      ]
    },
    {
      "cell_type": "code",
      "metadata": {
        "id": "EOX-sBkyzQKl"
      },
      "source": [
        "LOCAL_ZOO_MODEL_ZIP = os.path.join(LOCAL_MODEL_FOLDER, ZOO_URL.split('/')[-1])"
      ],
      "execution_count": 29,
      "outputs": []
    },
    {
      "cell_type": "code",
      "metadata": {
        "id": "zesEUKFww-mk"
      },
      "source": [
        "%%bash -s \"$LOCAL_MODEL_FOLDER\" \"$ZOO_URL\" \"$LOCAL_ZOO_MODEL_ZIP\"\n",
        "mkdir $1\n",
        "wget -P $1 $2\n",
        "tar -xvf $3 -C $1\n",
        "rm $3"
      ],
      "execution_count": null,
      "outputs": []
    },
    {
      "cell_type": "markdown",
      "metadata": {
        "id": "ka-Co6-k15Cm"
      },
      "source": [
        "# Training"
      ]
    },
    {
      "cell_type": "code",
      "metadata": {
        "id": "ojDOk4mR2zAc"
      },
      "source": [
        "TRAIN_LOG = os.path.join(PROJECT_FOLDER, \"train.nohup\")"
      ],
      "execution_count": null,
      "outputs": []
    },
    {
      "cell_type": "code",
      "metadata": {
        "id": "y6038Cqyy-K-"
      },
      "source": [
        "# Note that we are using a modified \"_max.py\" script that preserves many training checkpoints. Remove the \"_max.py\" if using the basic TFODAPI training script.\n",
        "%%bash -s \"$PROJECT_FOLDER\" \"$PIPELINE_CONFIG\" \"$TRAIN_LOG\"\n",
        "! nohup python /content/gcs/model_main_tf2_max.py \\\n",
        "--model_dir $1 \\\n",
        "--pipeline_config_path $2 \\\n",
        "--alsologtostderr > $3"
      ],
      "execution_count": null,
      "outputs": []
    }
  ]
}